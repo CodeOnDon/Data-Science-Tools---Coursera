{
 "cells": [
  {
   "cell_type": "markdown",
   "id": "8a4b917e-ff0f-426a-9820-c2292750e50a",
   "metadata": {},
   "source": [
    "# Data Science Tools and Ecosystem"
   ]
  },
  {
   "cell_type": "markdown",
   "id": "b388038e-15e4-4863-b04e-b218c23239b8",
   "metadata": {},
   "source": [
    "**Objectives:**\n",
    "\n",
    "* List popular languages that Data Scientists use\n",
    "* List commonly used libraries that Data Scientists use\n",
    "* Evaluate arithmetic expressions in Python"
   ]
  },
  {
   "cell_type": "markdown",
   "id": "83a264cf-8136-4c59-ae2b-8b9e4b554ff1",
   "metadata": {},
   "source": [
    "In this notebook, Data Science Tools and Ecosystems are summarized."
   ]
  },
  {
   "cell_type": "markdown",
   "id": "d2d77641-1018-46ba-bc9a-3fd7ee87d681",
   "metadata": {},
   "source": [
    "Some popular languages that Data Scientists use are:\n",
    "1. Python\n",
    "2. R\n",
    "3. Julia"
   ]
  },
  {
   "cell_type": "markdown",
   "id": "2e802c43-d0f5-4457-bf49-e22443c45d7f",
   "metadata": {},
   "source": [
    "Some commonly used libraries for Data Scientists include:\n",
    "1. pandas (Python)\n",
    "2. tidyverse (R)\n",
    "3. tidier.jl (julia)"
   ]
  },
  {
   "cell_type": "code",
   "execution_count": 1,
   "id": "9349a0de-4b89-42f0-9b3d-40ce46bb8e3b",
   "metadata": {},
   "outputs": [
    {
     "data": {
      "text/html": [
       "<style>\n",
       "table {float:left}\n",
       "</style>\n"
      ],
      "text/plain": [
       "<IPython.core.display.HTML object>"
      ]
     },
     "metadata": {},
     "output_type": "display_data"
    }
   ],
   "source": [
    "%%html\n",
    "<style>\n",
    "table {float:left}\n",
    "</style>"
   ]
  },
  {
   "cell_type": "markdown",
   "id": "dda5a7cc-1025-4fac-8c56-83eca2b8e6cc",
   "metadata": {},
   "source": [
    "Data Science Tools|\n",
    "------------------|\n",
    "GitLab|\n",
    "JupyterLab|\n",
    "VS Code"
   ]
  },
  {
   "cell_type": "markdown",
   "id": "0363a2d8-e886-4fcd-9fa3-fb9f8bee3381",
   "metadata": {},
   "source": [
    "### Below are a few examples of evaluating arithmetic expressions in python:"
   ]
  },
  {
   "cell_type": "code",
   "execution_count": 12,
   "id": "7d1d112d-5fe5-47d3-a4b7-f096d51048e2",
   "metadata": {},
   "outputs": [
    {
     "data": {
      "text/plain": [
       "17"
      ]
     },
     "execution_count": 12,
     "metadata": {},
     "output_type": "execute_result"
    }
   ],
   "source": [
    "(3*4)+5"
   ]
  },
  {
   "cell_type": "code",
   "execution_count": 18,
   "id": "6cfa9ece-90f6-4131-aa4e-5f3a2ab7c630",
   "metadata": {},
   "outputs": [
    {
     "data": {
      "text/plain": [
       "3.33"
      ]
     },
     "execution_count": 18,
     "metadata": {},
     "output_type": "execute_result"
    }
   ],
   "source": [
    "# this will convert 200 minutes to hours by dividing by 60, rounding to the nearest hundreth\n",
    "round((200/60),2)"
   ]
  },
  {
   "cell_type": "markdown",
   "id": "c8bbd8bc-cbe1-454f-b5a5-dee09dae815e",
   "metadata": {},
   "source": [
    "## Author\n",
    "Adonis Miliano"
   ]
  },
  {
   "cell_type": "code",
   "execution_count": null,
   "id": "51154a07-2f50-47d3-8e5c-da11dfaff5fb",
   "metadata": {},
   "outputs": [],
   "source": []
  }
 ],
 "metadata": {
  "kernelspec": {
   "display_name": "Python 3",
   "language": "python",
   "name": "python3"
  },
  "language_info": {
   "codemirror_mode": {
    "name": "ipython",
    "version": 3
   },
   "file_extension": ".py",
   "mimetype": "text/x-python",
   "name": "python",
   "nbconvert_exporter": "python",
   "pygments_lexer": "ipython3",
   "version": "3.10.2"
  }
 },
 "nbformat": 4,
 "nbformat_minor": 5
}
